{
 "cells": [
  {
   "cell_type": "code",
   "execution_count": null,
   "metadata": {},
   "outputs": [],
   "source": []
  }
 ],
 "metadata": {
  "kernelspec": {
   "display_name": "Python 3.12.4 ('cwq')",
   "language": "python",
   "name": "python3"
  },
  "language_info": {
   "name": "python",
   "version": "3.12.4"
  },
  "vscode": {
   "interpreter": {
    "hash": "6a33fe88c0d2279304dd26365a68418bbe831d0a579974eb54862c6bf95e0045"
   }
  }
 },
 "nbformat": 4,
 "nbformat_minor": 5
}
